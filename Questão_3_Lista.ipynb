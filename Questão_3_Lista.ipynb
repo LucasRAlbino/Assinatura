{
  "cells": [
    {
      "cell_type": "markdown",
      "metadata": {
        "id": "view-in-github",
        "colab_type": "text"
      },
      "source": [
        "<a href=\"https://colab.research.google.com/github/LucasRAlbino/Assinatura/blob/main/Quest%C3%A3o_3_Lista.ipynb\" target=\"_parent\"><img src=\"https://colab.research.google.com/assets/colab-badge.svg\" alt=\"Open In Colab\"/></a>"
      ]
    },
    {
      "cell_type": "code",
      "execution_count": null,
      "metadata": {
        "ExecuteTime": {
          "end_time": "2021-10-05T12:56:44.557045Z",
          "start_time": "2021-10-05T12:56:44.540055Z"
        },
        "id": "7WPlhsHhUuWo",
        "outputId": "9e31609d-8e57-42a7-bb22-5292bbfb4961",
        "colab": {
          "base_uri": "https://localhost:8080/"
        }
      },
      "outputs": [
        {
          "output_type": "stream",
          "name": "stdout",
          "text": [
            "Cloning into 'ElectricCircuits'...\n",
            "remote: Enumerating objects: 1490, done.\u001b[K\n",
            "remote: Counting objects: 100% (477/477), done.\u001b[K\n",
            "remote: Compressing objects: 100% (210/210), done.\u001b[K\n",
            "remote: Total 1490 (delta 308), reused 419 (delta 263), pack-reused 1013\u001b[K\n",
            "Receiving objects: 100% (1490/1490), 214.81 MiB | 15.99 MiB/s, done.\n",
            "Resolving deltas: 100% (893/893), done.\n",
            "Updating files: 100% (314/314), done.\n",
            "Looking in indexes: https://pypi.org/simple, https://us-python.pkg.dev/colab-wheels/public/simple/\n",
            "Obtaining file:///content/ElectricCircuits\n",
            "  Preparing metadata (setup.py) ... \u001b[?25l\u001b[?25hdone\n",
            "Requirement already satisfied: numpy in /usr/local/lib/python3.8/dist-packages (from CircuitPy==0.1.0) (1.21.6)\n",
            "Requirement already satisfied: scipy in /usr/local/lib/python3.8/dist-packages (from CircuitPy==0.1.0) (1.7.3)\n",
            "Requirement already satisfied: matplotlib in /usr/local/lib/python3.8/dist-packages (from CircuitPy==0.1.0) (3.2.2)\n",
            "Requirement already satisfied: sympy in /usr/local/lib/python3.8/dist-packages (from CircuitPy==0.1.0) (1.7.1)\n",
            "Requirement already satisfied: cycler>=0.10 in /usr/local/lib/python3.8/dist-packages (from matplotlib->CircuitPy==0.1.0) (0.11.0)\n",
            "Requirement already satisfied: python-dateutil>=2.1 in /usr/local/lib/python3.8/dist-packages (from matplotlib->CircuitPy==0.1.0) (2.8.2)\n",
            "Requirement already satisfied: kiwisolver>=1.0.1 in /usr/local/lib/python3.8/dist-packages (from matplotlib->CircuitPy==0.1.0) (1.4.4)\n",
            "Requirement already satisfied: pyparsing!=2.0.4,!=2.1.2,!=2.1.6,>=2.0.1 in /usr/local/lib/python3.8/dist-packages (from matplotlib->CircuitPy==0.1.0) (3.0.9)\n",
            "Requirement already satisfied: mpmath>=0.19 in /usr/local/lib/python3.8/dist-packages (from sympy->CircuitPy==0.1.0) (1.2.1)\n",
            "Requirement already satisfied: six>=1.5 in /usr/local/lib/python3.8/dist-packages (from python-dateutil>=2.1->matplotlib->CircuitPy==0.1.0) (1.15.0)\n",
            "Installing collected packages: CircuitPy\n",
            "  Running setup.py develop for CircuitPy\n",
            "Successfully installed CircuitPy-0.1.0\n"
          ]
        }
      ],
      "source": [
        "from IPython.core.display import HTML\n",
        "HTML(\"\"\"\n",
        "<style>\n",
        ".output_png {\n",
        "    display: table-cell;\n",
        "    text-align: center;\n",
        "    vertical-align: middle;\n",
        "}\n",
        "</style>\n",
        "\"\"\")\n",
        "\n",
        "if 'google.colab' in str(get_ipython()):    \n",
        "    ! git clone -b master https://github.com/edsonportosilva/ElectricCircuits\n",
        "    from os import chdir as cd\n",
        "    cd('/content/ElectricCircuits/')\n",
        "    ! pip install -e ."
      ]
    },
    {
      "cell_type": "markdown",
      "metadata": {
        "id": "h6sSBJ9bUuWs"
      },
      "source": [
        "# *Circuitos Elétricos I - Semana 12.1*"
      ]
    },
    {
      "cell_type": "code",
      "execution_count": null,
      "metadata": {
        "ExecuteTime": {
          "end_time": "2021-10-05T12:56:46.439007Z",
          "start_time": "2021-10-05T12:56:44.560042Z"
        },
        "id": "AEIxuYElUuWt"
      },
      "outputs": [],
      "source": [
        "import matplotlib.pyplot as plt\n",
        "import numpy as np\n",
        "import sympy as sp\n",
        "from circuit.utils import round_expr, symdisp, symplot\n",
        "\n",
        "from sympy.polys.partfrac import apart\n",
        "\n",
        "# temp workaround\n",
        "import warnings\n",
        "from matplotlib import MatplotlibDeprecationWarning\n",
        "warnings.filterwarnings('ignore', category=MatplotlibDeprecationWarning)\n",
        "\n",
        "plt.rcParams['figure.figsize'] = 6, 4\n",
        "plt.rcParams['legend.fontsize'] = 13\n",
        "plt.rcParams['lines.linewidth'] = 2\n",
        "plt.rcParams['axes.grid'] = False"
      ]
    },
    {
      "cell_type": "code",
      "execution_count": null,
      "metadata": {
        "ExecuteTime": {
          "end_time": "2021-10-05T12:56:46.469987Z",
          "start_time": "2021-10-05T12:56:46.442003Z"
        },
        "id": "4LKqwI9nUuWt"
      },
      "outputs": [],
      "source": [
        "# transformada de Laplace\n",
        "def L(f,t,s):\n",
        "    return sp.laplace_transform(f, t, s, noconds=True)\n",
        "\n",
        "# transformada inversa de Laplace\n",
        "def invL(F,s,t):\n",
        "    return sp.re(sp.inverse_laplace_transform(F, s, t, noconds=True))\n",
        "\n",
        "# funções para auxílio na expansão em frações parciais\n",
        "def adjustCoeff(expr):    \n",
        "    coeff = expr.as_numer_denom()\n",
        "    c0 = sp.poly(coeff[1].cancel()).coeffs()[0]\n",
        "    \n",
        "    return (coeff[0].cancel()/c0)/(coeff[1].cancel()/c0)\n",
        "\n",
        "def partFrac(expr, Ndigits):\n",
        "    expr = expr.cancel()\n",
        "    expr = apart(adjustCoeff(expr), s, full=True).doit()\n",
        "    \n",
        "    return sp.N(expr, Ndigits)\n",
        "\n",
        "sp.init_printing()"
      ]
    },
    {
      "cell_type": "markdown",
      "metadata": {
        "id": "0UcuJTrZUuWu"
      },
      "source": [
        "#### Definindo algumas variáveis simbólicas de interesse"
      ]
    },
    {
      "cell_type": "code",
      "execution_count": null,
      "metadata": {
        "ExecuteTime": {
          "end_time": "2021-10-05T12:56:46.484977Z",
          "start_time": "2021-10-05T12:56:46.472985Z"
        },
        "id": "05tOWwq7UuWu"
      },
      "outputs": [],
      "source": [
        "s     = sp.symbols('s')\n",
        "a     = sp.symbols('a', real=True, positive=True)\n",
        "omega, t = sp.symbols('omega, t', real=True)\n",
        "infty = sp.oo"
      ]
    },
    {
      "cell_type": "markdown",
      "metadata": {
        "id": "DOu_DBGlUuWv"
      },
      "source": [
        "### Problema 1\n",
        "\n",
        "O circuito da figura a seguir está em regime estacionário no momento em que chave é aberta. Sabe-se que $v(t)=\\mathrm{12\\;V}$.\n",
        "\n",
        "<img src=\"https://github.com/edsonportosilva/ElectricCircuits/blob/master/Jupyter%20notebooks/figures/J15C1.png?raw=1\" width=\"600\">\n",
        "\n",
        "Simulação do circuito: https://tinyurl.com/y84pozs3\n",
        "\n",
        "a. Determine $I_0(s)$ e $I_1(s)$.\\\n",
        "b. Verifique a consistência das respostas do item a. com os teoremas do valor inicial e do valor final.\\\n",
        "c. Determine a função de transferência $H_0(s)$ entre $V(s)$ e $I_0(s)$.\\\n",
        "d. Determine a função de transferência $H_1(s)$ entre $V(s)$ e $I_1(s)$.\\\n",
        "e. Determine a função de transferência $H_c(s)$ entre $V(s)$ e $V_c(s)$.\\\n",
        "f. Determine a $v_c(t)$ para o caso em que a tensão aplicada $v(t)$ em $\\mathrm{V}$ corresponde ao gráfico a seguir:\n",
        "\n",
        "<img src=\"https://github.com/edsonportosilva/ElectricCircuits/blob/master/Jupyter%20notebooks/figures/J15Fig1.png?raw=1\" width=\"400\">"
      ]
    },
    {
      "cell_type": "markdown",
      "metadata": {
        "id": "k6YovyW1UuWv"
      },
      "source": [
        "a. Determinando $I_0(s)$ e $I_1(s)$:"
      ]
    },
    {
      "cell_type": "code",
      "execution_count": null,
      "metadata": {
        "ExecuteTime": {
          "end_time": "2021-10-05T12:56:47.065150Z",
          "start_time": "2021-10-05T12:56:46.486976Z"
        },
        "id": "WYDyrgDsUuWw",
        "outputId": "de19fc58-15ba-4703-9908-c8dca49d3e65",
        "colab": {
          "base_uri": "https://localhost:8080/",
          "height": 695
        }
      },
      "outputs": [
        {
          "output_type": "stream",
          "name": "stdout",
          "text": [
            "Correntes no domínio de Laplace: \n",
            "\n"
          ]
        },
        {
          "output_type": "display_data",
          "data": {
            "text/plain": [
              "<IPython.core.display.Math object>"
            ],
            "text/latex": "$\\displaystyle I_1(s) =\\frac{10 \\left(13 s^{3} + 2021 s^{2} + 39500 s + 5000000\\right)}{s \\left(39 s^{3} + 71063 s^{2} + 10223500 s + 50000000\\right)}\\;As$"
          },
          "metadata": {}
        },
        {
          "output_type": "stream",
          "name": "stdout",
          "text": [
            "\n",
            "\n"
          ]
        },
        {
          "output_type": "display_data",
          "data": {
            "text/plain": [
              "<IPython.core.display.Math object>"
            ],
            "text/latex": "$\\displaystyle I_2(s) =\\frac{25000 \\left(13 s + 2000\\right)}{s \\left(39 s^{3} + 71063 s^{2} + 10223500 s + 50000000\\right)}\\;As$"
          },
          "metadata": {}
        },
        {
          "output_type": "stream",
          "name": "stdout",
          "text": [
            "\n",
            "\n"
          ]
        },
        {
          "output_type": "display_data",
          "data": {
            "text/plain": [
              "<IPython.core.display.Math object>"
            ],
            "text/latex": "$\\displaystyle I_3(s) =\\frac{175000}{39 s^{3} + 71063 s^{2} + 10223500 s + 50000000}\\;As$"
          },
          "metadata": {}
        },
        {
          "output_type": "stream",
          "name": "stdout",
          "text": [
            "\n",
            " Determinando IL(s), Vc1(s) e Vc2(s): \n",
            "\n"
          ]
        },
        {
          "output_type": "display_data",
          "data": {
            "text/plain": [
              "<IPython.core.display.Math object>"
            ],
            "text/latex": "$\\displaystyle Il(s) =\\frac{25000 \\left(13 s + 2000\\right)}{s \\left(39 s^{3} + 71063 s^{2} + 10223500 s + 50000000\\right)}\\; $"
          },
          "metadata": {}
        },
        {
          "output_type": "stream",
          "name": "stdout",
          "text": [
            "\n",
            "\n"
          ]
        },
        {
          "output_type": "display_data",
          "data": {
            "text/plain": [
              "<IPython.core.display.Math object>"
            ],
            "text/latex": "$\\displaystyle V_c1(s) =\\frac{50000 \\left(13 s^{2} + 2021 s + 7000\\right)}{s \\left(39 s^{3} + 71063 s^{2} + 10223500 s + 50000000\\right)}\\; $"
          },
          "metadata": {}
        },
        {
          "output_type": "stream",
          "name": "stdout",
          "text": [
            "\n",
            "\n"
          ]
        },
        {
          "output_type": "display_data",
          "data": {
            "text/plain": [
              "<IPython.core.display.Math object>"
            ],
            "text/latex": "$\\displaystyle V_c2(s) =\\frac{350000000}{s \\left(39 s^{3} + 71063 s^{2} + 10223500 s + 50000000\\right)}\\; $"
          },
          "metadata": {}
        },
        {
          "output_type": "stream",
          "name": "stdout",
          "text": [
            "\n",
            "\n",
            "\n",
            " Calculo do circuito equivalente de Thévenin visto pelo capacitor C2 \n",
            "\n"
          ]
        },
        {
          "output_type": "display_data",
          "data": {
            "text/plain": [
              "<IPython.core.display.Math object>"
            ],
            "text/latex": "$\\displaystyle V_th(s) =\\frac{350000}{s \\left(6 s^{2} + 10021 s + 50000\\right)}\\; $"
          },
          "metadata": {}
        },
        {
          "output_type": "stream",
          "name": "stdout",
          "text": [
            "\n",
            "\n"
          ]
        },
        {
          "output_type": "display_data",
          "data": {
            "text/plain": [
              "<IPython.core.display.Math object>"
            ],
            "text/latex": "$\\displaystyle R_th(s) =\\frac{350000 \\left(\\frac{39 s^{3}}{175000} + \\frac{65063 s^{2}}{175000} + \\frac{81 s}{70}\\right)}{s \\left(6 s^{2} + 10021 s + 50000\\right)}\\; $"
          },
          "metadata": {}
        }
      ],
      "source": [
        "# Questão 3 Lucas Rodrigues Albino\n",
        "\n",
        "Ia, Ib, Ix, Iy, Iz, I1, I2, I3, Vc1, Vc2, Vth, Rth, s = sp.symbols('I_a, I_b, I_x, I_y, I_z, I_1, I_2, I_3, V_c1, V_c2, V_th, Rth, s')\n",
        "\n",
        "# define os sistema de equações\n",
        "eq1 = sp.Eq(3*I1 + (5000/s)*(I1 - I2) - 10/s, 0)             \n",
        "eq2 = sp.Eq(2*s*I2 + 7*(I2 - I3) - (5000/s)*(I1-I2), 0)\n",
        "eq3 = sp.Eq(6*I3 + (2000/s)*I3 - 7*(I2 - I3), 0) \n",
        "\n",
        "#symdisp('Eq1 =', eq1)\n",
        "#symdisp('Eq2 =', eq2)\n",
        "#symdisp('Eq3 =', eq3)\n",
        "\n",
        "# resolve o sistema\n",
        "soluc = sp.solve([eq1, eq2, eq3],[I1, I2, I3], dict=True)\n",
        "soluc\n",
        "\n",
        "I1 = [sol[I1] for sol in soluc]\n",
        "I2 = [sol[I2] for sol in soluc]\n",
        "I3 = [sol[I3] for sol in soluc]\n",
        "\n",
        "I1 = I1[0]\n",
        "I2 = I2[0]\n",
        "I3 = I3[0]\n",
        "\n",
        "I1 = I1.simplify()\n",
        "I2 = I2.simplify()\n",
        "I3 = I3.simplify()\n",
        "\n",
        "print('Correntes no domínio de Laplace: \\n')\n",
        "symdisp('I_1(s) =', I1, 'As')\n",
        "print('\\n')\n",
        "symdisp('I_2(s) =', I2, 'As')\n",
        "print('\\n')\n",
        "symdisp('I_3(s) =', I3, 'As')\n",
        "\n",
        "#Calculando Vc1(s) e Vc2(s):\n",
        "\n",
        "Vc1 = (5000/s)*(I1-I2)\n",
        "Vc2 = (2000/s)*I3\n",
        "\n",
        "Vc1 = Vc1.simplify()\n",
        "Vc2 = Vc2.simplify()\n",
        "\n",
        "print('\\n Determinando IL(s), Vc1(s) e Vc2(s): \\n')\n",
        "\n",
        "symdisp('Il(s) =', I2)\n",
        "print('\\n')\n",
        "symdisp('V_c1(s) =', Vc1)\n",
        "print('\\n')\n",
        "symdisp('V_c2(s) =', Vc2)\n",
        "print('\\n')\n",
        "\n",
        "#Calculando o circuito equivalente de Thévenin visto pelo capacitor C2\n",
        "\n",
        "eqa = sp.Eq(3*Ia + (5000/s)*(Ia-Ib) - 10/s, 0)\n",
        "eqb = sp.Eq(2*s*Ib + 7*Ib - (5000/s)*(Ia-Ib), 0)\n",
        "\n",
        "soluc = sp.solve([eqa, eqb],[Ia, Ib], dict=True)\n",
        "soluc\n",
        "\n",
        "Ia = [sol[Ia] for sol in soluc]\n",
        "Ib = [sol[Ib] for sol in soluc]\n",
        "\n",
        "Ia = Ia[0]\n",
        "Ib = Ib[0]\n",
        "\n",
        "Ia = Ia.simplify()\n",
        "Ib = Ib.simplify()\n",
        "'''\n",
        "symdisp('I_a(s) =', Ia, 'As')\n",
        "print('\\n')\n",
        "symdisp('I_b(s) =', Ib, 'As')\n",
        "print('\\n')\n",
        "'''\n",
        "\n",
        "#Calculando a corrente de curto ciruito:\n",
        "\n",
        "eqx = sp.Eq(3*Ix + (5000/s)*(Ix-Iy)-10/s, 0)\n",
        "eqy = sp.Eq(2*s*Iy + 7*(Iy-Iz) - (5000/s)*(Ix-Iy), 0)\n",
        "eqz = sp.Eq(6*Iz - 7*(Iy-Iz), 0)\n",
        "\n",
        "soluc = sp.solve([eqx, eqy, eqz],[Ix, Iy, Iz], dict=True)\n",
        "soluc\n",
        "\n",
        "Ix = [sol[Ix] for sol in soluc]\n",
        "Iy = [sol[Iy] for sol in soluc]\n",
        "Iz = [sol[Iz] for sol in soluc]\n",
        "\n",
        "Ix = Ix[0]\n",
        "Iy = Iy[0]\n",
        "Iz = Iz[0]\n",
        "\n",
        "'''\n",
        "Ix = Ia.simplify()\n",
        "Iy = Iy.simplify()\n",
        "Iz = Iz.simplify()\n",
        "\n",
        "symdisp('I_x(s) =', Ix)\n",
        "print('\\n')\n",
        "symdisp('I_y(s) =', Iy)\n",
        "print('\\n')\n",
        "symdisp('V_z(s) =', Iz)\n",
        "print('\\n')\n",
        "'''\n",
        "\n",
        "Vth = 7*Ib\n",
        "\n",
        "Rth = Vth/Iz\n",
        "print('\\n Calculo do circuito equivalente de Thévenin visto pelo capacitor C2 \\n')\n",
        "symdisp('V_th(s) =', Vth)\n",
        "print('\\n')\n",
        "symdisp('R_th(s) =', Rth)\n"
      ]
    },
    {
      "cell_type": "markdown",
      "metadata": {
        "id": "DX6d4RX1UuWw"
      },
      "source": [
        "b. Checando a consistência das soluções\n",
        "\n",
        "**Teorema do valor inicial (TVI)**\n",
        "\n",
        "$$\n",
        "f(0^+) = \\lim_{t \\to 0^+}f(t) = \\lim_{s \\to \\infty}sF(s)\n",
        "$$\n"
      ]
    },
    {
      "cell_type": "code",
      "execution_count": null,
      "metadata": {
        "ExecuteTime": {
          "end_time": "2021-10-05T12:56:47.161091Z",
          "start_time": "2021-10-05T12:56:47.067150Z"
        },
        "id": "PwWicqlPUuWx",
        "outputId": "c11127d4-8c01-43a7-bf8a-421ed17867a4",
        "colab": {
          "base_uri": "https://localhost:8080/",
          "height": 236
        }
      },
      "outputs": [
        {
          "output_type": "error",
          "ename": "NameError",
          "evalue": "ignored",
          "traceback": [
            "\u001b[0;31m---------------------------------------------------------------------------\u001b[0m",
            "\u001b[0;31mNameError\u001b[0m                                 Traceback (most recent call last)",
            "\u001b[0;32m<ipython-input-6-b584d706de6f>\u001b[0m in \u001b[0;36m<module>\u001b[0;34m\u001b[0m\n\u001b[0;32m----> 1\u001b[0;31m \u001b[0mi0_0_tvi\u001b[0m \u001b[0;34m=\u001b[0m \u001b[0msp\u001b[0m\u001b[0;34m.\u001b[0m\u001b[0mlimit\u001b[0m\u001b[0;34m(\u001b[0m\u001b[0ms\u001b[0m\u001b[0;34m*\u001b[0m\u001b[0mI0\u001b[0m\u001b[0;34m,\u001b[0m \u001b[0ms\u001b[0m\u001b[0;34m,\u001b[0m \u001b[0minfty\u001b[0m\u001b[0;34m)\u001b[0m\u001b[0;34m\u001b[0m\u001b[0;34m\u001b[0m\u001b[0m\n\u001b[0m\u001b[1;32m      2\u001b[0m \u001b[0mi1_0_tvi\u001b[0m \u001b[0;34m=\u001b[0m \u001b[0msp\u001b[0m\u001b[0;34m.\u001b[0m\u001b[0mlimit\u001b[0m\u001b[0;34m(\u001b[0m\u001b[0ms\u001b[0m\u001b[0;34m*\u001b[0m\u001b[0mI1\u001b[0m\u001b[0;34m,\u001b[0m \u001b[0ms\u001b[0m\u001b[0;34m,\u001b[0m \u001b[0minfty\u001b[0m\u001b[0;34m)\u001b[0m\u001b[0;34m\u001b[0m\u001b[0;34m\u001b[0m\u001b[0m\n\u001b[1;32m      3\u001b[0m \u001b[0;34m\u001b[0m\u001b[0m\n\u001b[1;32m      4\u001b[0m \u001b[0;34m\u001b[0m\u001b[0m\n\u001b[1;32m      5\u001b[0m \u001b[0msymdisp\u001b[0m\u001b[0;34m(\u001b[0m\u001b[0;34m'i_0(0^+) = '\u001b[0m\u001b[0;34m,\u001b[0m \u001b[0mi0_0_tvi\u001b[0m\u001b[0;34m,\u001b[0m \u001b[0;34m' A'\u001b[0m \u001b[0;34m)\u001b[0m\u001b[0;34m\u001b[0m\u001b[0;34m\u001b[0m\u001b[0m\n",
            "\u001b[0;31mNameError\u001b[0m: name 'I0' is not defined"
          ]
        }
      ],
      "source": [
        "i0_0_tvi = sp.limit(s*I0, s, infty)\n",
        "i1_0_tvi = sp.limit(s*I1, s, infty)\n",
        "\n",
        "\n",
        "symdisp('i_0(0^+) = ', i0_0_tvi, ' A' )\n",
        "symdisp('i_1(0^+) = ', i1_0_tvi, ' A' )"
      ]
    },
    {
      "cell_type": "markdown",
      "metadata": {
        "id": "UK0FH0oYUuWx"
      },
      "source": [
        "**Teorema do valor final (TVF)**\n",
        "\n",
        "$$\n",
        "f(\\infty) = \\lim_{t \\to \\infty}f(t) = \\lim_{s \\to 0}sF(s)\n",
        "$$\n",
        "\n"
      ]
    },
    {
      "cell_type": "code",
      "execution_count": null,
      "metadata": {
        "ExecuteTime": {
          "end_time": "2021-10-05T12:56:47.225085Z",
          "start_time": "2021-10-05T12:56:47.163089Z"
        },
        "id": "H6w_NEphUuWx"
      },
      "outputs": [],
      "source": [
        "i0_inf_tvf = sp.limit(s*I0, s, 0)\n",
        "i1_inf_tvf = sp.limit(s*I1, s, 0)\n",
        "\n",
        "\n",
        "symdisp('i_0(\\infty) = ', i0_inf_tvf, ' A' )\n",
        "symdisp('i_1(\\infty) = ', i1_inf_tvf, ' A' )"
      ]
    },
    {
      "cell_type": "code",
      "execution_count": null,
      "metadata": {
        "ExecuteTime": {
          "end_time": "2021-10-05T12:56:47.522900Z",
          "start_time": "2021-10-05T12:56:47.228080Z"
        },
        "id": "juT2UhvrUuWy"
      },
      "outputs": [],
      "source": [
        "C = 4e-3  # F\n",
        "\n",
        "# Calculando Vc\n",
        "Vc = (1/(s*C))*I1\n",
        "\n",
        "Vc = Vc.simplify()\n",
        "\n",
        "symdisp('V_c(s) =', adjustCoeff(Vc).simplify(), 'Vs')"
      ]
    },
    {
      "cell_type": "code",
      "execution_count": null,
      "metadata": {
        "ExecuteTime": {
          "end_time": "2021-10-05T12:56:51.109608Z",
          "start_time": "2021-10-05T12:56:47.525896Z"
        },
        "id": "aYmJ9MOAUuWy"
      },
      "outputs": [],
      "source": [
        " sp.limit(s*Vc, s, 0)"
      ]
    },
    {
      "cell_type": "code",
      "execution_count": null,
      "metadata": {
        "ExecuteTime": {
          "end_time": "2021-10-05T12:56:51.125597Z",
          "start_time": "2021-10-05T12:56:51.112605Z"
        },
        "id": "Pp1IFtV1UuWz"
      },
      "outputs": [],
      "source": [
        "np.roots([1, 35, 375, 3125, 0])"
      ]
    },
    {
      "cell_type": "code",
      "execution_count": null,
      "metadata": {
        "ExecuteTime": {
          "end_time": "2021-10-05T12:56:53.542783Z",
          "start_time": "2021-10-05T12:56:51.128594Z"
        },
        "id": "SOsp1CEbUuW0"
      },
      "outputs": [],
      "source": [
        "partFrac(Vc, 3)"
      ]
    },
    {
      "cell_type": "code",
      "execution_count": null,
      "metadata": {
        "ExecuteTime": {
          "end_time": "2021-10-05T12:56:55.910320Z",
          "start_time": "2021-10-05T12:56:53.544784Z"
        },
        "id": "Om6pHBZpUuW0"
      },
      "outputs": [],
      "source": [
        "#vc = invL(partFrac(Vc,4), s, t)\n",
        "\n",
        "#symdisp('v_c(t) = ', vc, ' V')"
      ]
    },
    {
      "cell_type": "code",
      "execution_count": null,
      "metadata": {
        "id": "ICrkbuDGUuW0"
      },
      "outputs": [],
      "source": [
        "vc = (12 + sp.exp(-5*t)*( -15*sp.cos(10*t) + 30*sp.sin(10*t) ) + 3*sp.exp(-25*t) )*sp.Heaviside(t)\n",
        "\n",
        "symdisp('v_c(t) = ', vc, 'V')"
      ]
    },
    {
      "cell_type": "code",
      "execution_count": null,
      "metadata": {
        "ExecuteTime": {
          "end_time": "2021-10-05T12:56:59.179862Z",
          "start_time": "2021-10-05T12:56:55.912317Z"
        },
        "id": "pTNu5WsWUuW0"
      },
      "outputs": [],
      "source": [
        "# plota funções no domínio do tempo\n",
        "intervalo = np.arange(-1, 4, 0.01)\n",
        "symplot(t, vc, intervalo, 'vc(t)')"
      ]
    },
    {
      "cell_type": "markdown",
      "metadata": {
        "id": "966-3kcCUuW1"
      },
      "source": [
        "c-e) Determinando $H_0(s)$, $H_0(s)$ e $H_c(s)$."
      ]
    },
    {
      "cell_type": "code",
      "execution_count": null,
      "metadata": {
        "ExecuteTime": {
          "end_time": "2021-10-05T12:56:59.211841Z",
          "start_time": "2021-10-05T12:56:59.181862Z"
        },
        "id": "JRE0vhWTUuW1"
      },
      "outputs": [],
      "source": [
        "V = 12/s\n",
        "\n",
        "H0 = I0/V\n",
        "\n",
        "symdisp('H_0(s) =', H0,)"
      ]
    },
    {
      "cell_type": "code",
      "execution_count": null,
      "metadata": {
        "ExecuteTime": {
          "end_time": "2021-10-05T12:56:59.273804Z",
          "start_time": "2021-10-05T12:56:59.214840Z"
        },
        "id": "XZKe1Oh2UuW1"
      },
      "outputs": [],
      "source": [
        "H1 = I1/V\n",
        "H1 = adjustCoeff(H1)\n",
        "\n",
        "symdisp('H_1(s) =', H1,)"
      ]
    },
    {
      "cell_type": "code",
      "execution_count": null,
      "metadata": {
        "ExecuteTime": {
          "end_time": "2021-10-05T12:56:59.321773Z",
          "start_time": "2021-10-05T12:56:59.275803Z"
        },
        "id": "7n4eb_QwUuW1"
      },
      "outputs": [],
      "source": [
        "Hc = Vc/V\n",
        "Hc = adjustCoeff(Hc)\n",
        "\n",
        "symdisp('H_c(s) =', Hc,)"
      ]
    },
    {
      "cell_type": "markdown",
      "metadata": {
        "id": "pCiEjYDQUuW2"
      },
      "source": [
        "f. $v_c(t)=?$"
      ]
    },
    {
      "cell_type": "code",
      "execution_count": null,
      "metadata": {
        "ExecuteTime": {
          "end_time": "2021-10-05T14:00:07.360045Z",
          "start_time": "2021-10-05T14:00:01.893218Z"
        },
        "id": "Sr9nC17dUuW2"
      },
      "outputs": [],
      "source": [
        "v = 2*(sp.Heaviside(t)-sp.Heaviside(t-1)) - 1*(sp.Heaviside(t-1)-sp.Heaviside(t-2))\n",
        "\n",
        "symdisp('v(t) =', v, ' V')\n",
        "\n",
        "# plota funções no domínio do tempo\n",
        "intervalo = np.arange(-1, 3, 0.01)\n",
        "symplot(t, v, intervalo, 'v(t)')"
      ]
    },
    {
      "cell_type": "code",
      "execution_count": null,
      "metadata": {
        "ExecuteTime": {
          "end_time": "2021-10-05T14:33:16.718436Z",
          "start_time": "2021-10-05T14:33:15.212369Z"
        },
        "id": "piKX_yB8UuW2"
      },
      "outputs": [],
      "source": [
        "# determina Vc(s) via função de transferência\n",
        "V = L(v, t, s)\n",
        "Vc = Hc*V\n",
        "\n",
        "symdisp('V_c(s) =', Vc.simplify(), ' Vs')"
      ]
    },
    {
      "cell_type": "code",
      "execution_count": null,
      "metadata": {
        "ExecuteTime": {
          "end_time": "2021-10-05T14:35:02.416911Z",
          "start_time": "2021-10-05T14:34:59.676607Z"
        },
        "id": "YWU-ZiLgUuW2"
      },
      "outputs": [],
      "source": [
        "# função auxiliar Va(s)\n",
        "P = (25*s**2 + 875*s + 3125)/(s**4 + 35*s**3 + 375*s**2 + 3125*s)\n",
        "#P = partFrac(P, 10)\n",
        "\n",
        "symdisp('P(s) =', partFrac(P, 10), ' Vs')"
      ]
    },
    {
      "cell_type": "code",
      "execution_count": null,
      "metadata": {
        "ExecuteTime": {
          "end_time": "2021-10-05T14:35:02.416911Z",
          "start_time": "2021-10-05T14:34:59.676607Z"
        },
        "id": "_BDe5ZSZUuW2"
      },
      "outputs": [],
      "source": [
        "# encontra va(t)\n",
        "p = invL(P.apart(), s, t)\n",
        "p = p.expand()\n",
        "\n",
        "symdisp('p(t) =', p, ' V')"
      ]
    },
    {
      "cell_type": "code",
      "execution_count": null,
      "metadata": {
        "ExecuteTime": {
          "end_time": "2021-10-05T14:37:29.299064Z",
          "start_time": "2021-10-05T14:37:29.220114Z"
        },
        "id": "wO_nqlEJUuW2"
      },
      "outputs": [],
      "source": [
        "vc = 2*p - 3*p.subs({t:sp.UnevaluatedExpr(t-1)}) + p.subs({t:sp.UnevaluatedExpr(t-2)})\n",
        "\n",
        "symdisp('v_c(t) =', vc, ' V')"
      ]
    },
    {
      "cell_type": "code",
      "execution_count": null,
      "metadata": {
        "ExecuteTime": {
          "end_time": "2021-10-05T14:41:14.890953Z",
          "start_time": "2021-10-05T14:41:01.790522Z"
        },
        "id": "L2RHQL_fUuW3"
      },
      "outputs": [],
      "source": [
        "# plota funções no domínio do tempo\n",
        "intervalo = np.arange(-1, 3, 0.01)\n",
        "symplot(t, [v, vc], intervalo, ['v(t)','vc(t)'])"
      ]
    }
  ],
  "metadata": {
    "colab": {
      "provenance": [],
      "include_colab_link": true
    },
    "jupytext": {
      "encoding": "# -*- coding: utf-8 -*-",
      "formats": "ipynb,py:light"
    },
    "kernelspec": {
      "display_name": "Python 3 (ipykernel)",
      "language": "python",
      "name": "python3"
    },
    "language_info": {
      "codemirror_mode": {
        "name": "ipython",
        "version": 3
      },
      "file_extension": ".py",
      "mimetype": "text/x-python",
      "name": "python",
      "nbconvert_exporter": "python",
      "pygments_lexer": "ipython3",
      "version": "3.9.12"
    },
    "toc": {
      "base_numbering": 1,
      "nav_menu": {},
      "number_sections": true,
      "sideBar": true,
      "skip_h1_title": true,
      "title_cell": "Table of Contents",
      "title_sidebar": "Contents",
      "toc_cell": true,
      "toc_position": {
        "height": "calc(100% - 180px)",
        "left": "10px",
        "top": "150px",
        "width": "200.475px"
      },
      "toc_section_display": true,
      "toc_window_display": true
    },
    "varInspector": {
      "cols": {
        "lenName": 16,
        "lenType": 16,
        "lenVar": 40
      },
      "kernels_config": {
        "python": {
          "delete_cmd_postfix": "",
          "delete_cmd_prefix": "del ",
          "library": "var_list.py",
          "varRefreshCmd": "print(var_dic_list())"
        },
        "r": {
          "delete_cmd_postfix": ") ",
          "delete_cmd_prefix": "rm(",
          "library": "var_list.r",
          "varRefreshCmd": "cat(var_dic_list()) "
        }
      },
      "types_to_exclude": [
        "module",
        "function",
        "builtin_function_or_method",
        "instance",
        "_Feature"
      ],
      "window_display": false
    }
  },
  "nbformat": 4,
  "nbformat_minor": 0
}